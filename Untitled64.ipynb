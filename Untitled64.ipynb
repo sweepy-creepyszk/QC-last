{
 "cells": [
  {
   "cell_type": "code",
   "execution_count": 7,
   "id": "f88e2394",
   "metadata": {},
   "outputs": [
    {
     "name": "stdout",
     "output_type": "stream",
     "text": [
      "[0.4871565627741023, -1.0024165159824685, -1.9426355875990755, 0.15204850294582473, 0.30584338276907985, -0.6194501699145326, 0.29486293491969656, 0.5728789551749379, 1.7517119349124322]\n"
     ]
    }
   ],
   "source": [
    "#驚き\n",
    "import math\n",
    "llist = [ 1.475921,0.954863, 0.625971,1.358699,1.412497,1.088826, 1.408656,1.505907, 1.918267]\n",
    "av = sum(llist) / len(llist)\n",
    "\n",
    "llist = [i-av for i in llist]\n",
    "\n",
    "hy = 0\n",
    "for i in llist:\n",
    "    hy+=i*i\n",
    "    \n",
    "hy/=len(llist)\n",
    "\n",
    "llist = [i/math.sqrt(hy) for i in llist]\n",
    "print(llist)"
   ]
  },
  {
   "cell_type": "code",
   "execution_count": 9,
   "id": "d22adf54",
   "metadata": {},
   "outputs": [
    {
     "name": "stdout",
     "output_type": "stream",
     "text": [
      "[0.793515360657865, -0.6327847153278573, -0.059387202636209474, -1.1569415000311591, 1.2739135658424126, -0.013466285327094119, 0.7707016404527072, 0.9149021016321405, -1.8904529652628002]\n"
     ]
    }
   ],
   "source": [
    "#恐怖\n",
    "import math\n",
    "llist = [4.227081,3.61958,3.863806,3.396327,4.431696,3.883365,4.217364,4.278783,3.083904]\n",
    "av = sum(llist) / len(llist)\n",
    "\n",
    "llist = [i-av for i in llist]\n",
    "\n",
    "hy = 0\n",
    "for i in llist:\n",
    "    hy+=i*i\n",
    "    \n",
    "hy/=len(llist)\n",
    "\n",
    "llist = [i/math.sqrt(hy) for i in llist]\n",
    "print(llist)\n"
   ]
  },
  {
   "cell_type": "code",
   "execution_count": 10,
   "id": "929fcd40",
   "metadata": {},
   "outputs": [
    {
     "name": "stdout",
     "output_type": "stream",
     "text": [
      "[1.0765621854527017, -1.4794581793339494, 1.3515348372138785, -1.186223829713776, 1.1432641400840418, 0.2406487994687943, 0.24894853193757535, -0.7927845007060489, -0.6024919844032173]\n"
     ]
    }
   ],
   "source": [
    "#安心\n",
    "import math\n",
    "llist =[3.552777,2.434867,3.67304,2.563117,3.58195,3.187179,3.190809,2.735193,2.81842]\n",
    "av = sum(llist) / len(llist)\n",
    "\n",
    "llist = [i-av for i in llist]\n",
    "\n",
    "hy = 0\n",
    "for i in llist:\n",
    "    hy+=i*i\n",
    "    \n",
    "hy/=len(llist)\n",
    "\n",
    "llist = [i/math.sqrt(hy) for i in llist]\n",
    "print(llist)\n"
   ]
  },
  {
   "cell_type": "code",
   "execution_count": 11,
   "id": "a26cd4a6",
   "metadata": {},
   "outputs": [
    {
     "name": "stdout",
     "output_type": "stream",
     "text": [
      "[-0.23644688863159344, -0.20467395344449926, 0.19901936290448427, -1.4577348583492058, -1.0885736562062314, 0.6427151248317898, -0.776723333214157, 1.0965426297845229, 1.8258755723248883]\n"
     ]
    }
   ],
   "source": [
    "#喜び\n",
    "import math\n",
    "llist = [5.244983,5.278723,5.707409,3.948085,4.340101,6.178574,4.671258,6.660498,7.434984]\n",
    "av = sum(llist) / len(llist)\n",
    "\n",
    "llist = [i-av for i in llist]\n",
    "\n",
    "hy = 0\n",
    "for i in llist:\n",
    "    hy+=i*i\n",
    "    \n",
    "hy/=len(llist)\n",
    "\n",
    "llist = [i/math.sqrt(hy) for i in llist]\n",
    "print(llist)\n"
   ]
  },
  {
   "cell_type": "code",
   "execution_count": 12,
   "id": "e8038ef4",
   "metadata": {},
   "outputs": [
    {
     "name": "stdout",
     "output_type": "stream",
     "text": [
      "[-0.19194833299878666, 1.080837644865941, -0.4457771726344187, -0.9710359256278414, -0.9359288800090058, -0.8369433854173159, 2.240882476055773, 0.1935593211680822, -0.1336457454024148]\n"
     ]
    }
   ],
   "source": [
    "#嫌悪\n",
    "import math\n",
    "llist = [14.556345,15.787618,14.310795,13.802668,13.83663,13.932387,16.909827,14.929279,14.612746]\n",
    "av = sum(llist) / len(llist)\n",
    "\n",
    "llist = [i-av for i in llist]\n",
    "\n",
    "hy = 0\n",
    "for i in llist:\n",
    "    hy+=i*i\n",
    "    \n",
    "hy/=len(llist)\n",
    "\n",
    "llist = [i/math.sqrt(hy) for i in llist]\n",
    "print(llist)\n"
   ]
  },
  {
   "cell_type": "code",
   "execution_count": 13,
   "id": "b8e3e9f9",
   "metadata": {},
   "outputs": [
    {
     "name": "stdout",
     "output_type": "stream",
     "text": [
      "[2.089954575215694, -0.4852090297220604, 1.1458919950039175, -1.3821318686105375, -0.6249109648169104, -0.7940105569252628, -0.20696295504510154, 0.32411590621067754, -0.0667371013104056]\n"
     ]
    }
   ],
   "source": [
    "#哀れみ\n",
    "import math\n",
    "llist = [2.951342,2.15508,2.65943,1.877744,2.111883,2.059596,2.241116,2.40533,2.284475]\n",
    "av = sum(llist) / len(llist)\n",
    "\n",
    "llist = [i-av for i in llist]\n",
    "\n",
    "hy = 0\n",
    "for i in llist:\n",
    "    hy+=i*i\n",
    "    \n",
    "hy/=len(llist)\n",
    "\n",
    "llist = [i/math.sqrt(hy) for i in llist]\n",
    "print(llist)\n"
   ]
  },
  {
   "cell_type": "code",
   "execution_count": 14,
   "id": "7739342f",
   "metadata": {},
   "outputs": [
    {
     "name": "stdout",
     "output_type": "stream",
     "text": [
      "[0.29355114263045384, -0.46199607010404453, -1.0636462717896245, 0.44639225651951575, -0.5954086762517682, -1.0549456791924166, 2.4286807895739635, -0.040122918855436535, 0.047495427469360675]\n"
     ]
    }
   ],
   "source": [
    "#恥\n",
    "import math\n",
    "llist = [0.256074,0.184519,0.127539,0.270549,0.171884,0.128363,0.458284,0.224473,0.232771]\n",
    "av = sum(llist) / len(llist)\n",
    "\n",
    "llist = [i-av for i in llist]\n",
    "\n",
    "hy = 0\n",
    "for i in llist:\n",
    "    hy+=i*i\n",
    "    \n",
    "hy/=len(llist)\n",
    "\n",
    "llist = [i/math.sqrt(hy) for i in llist]\n",
    "print(llist)\n"
   ]
  },
  {
   "cell_type": "code",
   "execution_count": 15,
   "id": "878a3bc4",
   "metadata": {},
   "outputs": [
    {
     "name": "stdout",
     "output_type": "stream",
     "text": [
      "[0.8992036689103501, 0.5900932685660868, 0.4489311399974919, -1.5235975447450618, 0.10038189093983504, -0.5762069553313433, 1.8347786197929705, -1.0264885499515142, -0.7470955381788166]\n"
     ]
    }
   ],
   "source": [
    "#怒り\n",
    "import math\n",
    "llist = [1.859882, 1.757592,1.710879,1.058135,1.595538,1.371643,2.16948,1.222637,1.315093]\n",
    "av = sum(llist) / len(llist)\n",
    "\n",
    "llist = [i-av for i in llist]\n",
    "\n",
    "hy = 0\n",
    "for i in llist:\n",
    "    hy+=i*i\n",
    "    \n",
    "hy/=len(llist)\n",
    "\n",
    "llist = [i/math.sqrt(hy) for i in llist]\n",
    "print(llist)\n"
   ]
  },
  {
   "cell_type": "code",
   "execution_count": 16,
   "id": "7b4afdfd",
   "metadata": {},
   "outputs": [
    {
     "name": "stdout",
     "output_type": "stream",
     "text": [
      "[0.7657421423938255, 0.6781746648655159, 1.1696777967960144, 0.3653499185441123, 0.971693114678944, -1.1300292032008623, -1.3065373018823174, 0.07293204077455884, -1.58700317296979]\n"
     ]
    }
   ],
   "source": [
    "#好意\n",
    "import math\n",
    "llist = [1.774057,1.75703,1.8526,1.696203,1.814103,1.405435,1.371114,1.639344,1.316579 ]\n",
    "av = sum(llist) / len(llist)\n",
    "\n",
    "llist = [i-av for i in llist]\n",
    "\n",
    "hy = 0\n",
    "for i in llist:\n",
    "    hy+=i*i\n",
    "    \n",
    "hy/=len(llist)\n",
    "\n",
    "llist = [i/math.sqrt(hy) for i in llist]\n",
    "print(llist)\n"
   ]
  },
  {
   "cell_type": "code",
   "execution_count": 17,
   "id": "d037b38a",
   "metadata": {},
   "outputs": [
    {
     "name": "stdout",
     "output_type": "stream",
     "text": [
      "[-0.1471263178945135, -0.1471263178945135, 1.9273185603048435, -1.2258374004942265, 0.38806575037805097, -0.17473036637141912, -1.1558554846823195, 1.2872234859014522, -0.7519319092473558]\n"
     ]
    }
   ],
   "source": [
    "#昂ぶり\n",
    "import math\n",
    "llist =  [0.857101,0.857101,1.183703 ,0.687268 ,0.941362,0.852755,0.698286,1.082926,0.76188 ]\n",
    "av = sum(llist) / len(llist)\n",
    "\n",
    "llist = [i-av for i in llist]\n",
    "\n",
    "hy = 0\n",
    "for i in llist:\n",
    "    hy+=i*i\n",
    "    \n",
    "hy/=len(llist)\n",
    "\n",
    "llist = [i/math.sqrt(hy) for i in llist]\n",
    "print(llist)\n"
   ]
  },
  {
   "cell_type": "code",
   "execution_count": null,
   "id": "df58af58",
   "metadata": {},
   "outputs": [],
   "source": []
  },
  {
   "cell_type": "code",
   "execution_count": null,
   "id": "f8addc24",
   "metadata": {},
   "outputs": [],
   "source": []
  }
 ],
 "metadata": {
  "kernelspec": {
   "display_name": "Python 3 (ipykernel)",
   "language": "python",
   "name": "python3"
  },
  "language_info": {
   "codemirror_mode": {
    "name": "ipython",
    "version": 3
   },
   "file_extension": ".py",
   "mimetype": "text/x-python",
   "name": "python",
   "nbconvert_exporter": "python",
   "pygments_lexer": "ipython3",
   "version": "3.9.7"
  }
 },
 "nbformat": 4,
 "nbformat_minor": 5
}
