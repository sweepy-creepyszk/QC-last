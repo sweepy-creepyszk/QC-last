{
 "cells": [
  {
   "cell_type": "code",
   "execution_count": 3,
   "id": "0394809e",
   "metadata": {},
   "outputs": [
    {
     "name": "stdout",
     "output_type": "stream",
     "text": [
      "numpyの配列↓\n",
      "          0\n",
      "0  1.475921\n",
      "1  0.954863\n",
      "2  0.625971\n",
      "3  1.358699\n",
      "4  1.412497\n",
      "5  1.088826\n",
      "6  1.408656\n",
      "7  1.505907\n",
      "8  1.918267\n",
      "pandasのDataFrame↓\n",
      "          0\n",
      "0  1.475921\n",
      "1  0.954863\n",
      "2  0.625971\n",
      "3  1.358699\n",
      "4  1.412497\n"
     ]
    }
   ],
   "source": [
    "#ライブラリのインポート\n",
    "import numpy as np\n",
    "import matplotlib.pyplot as plt\n",
    "import pandas as pd\n",
    " \n",
    "#2次元の乱数の生成\n",
    "odoroki = [ 1.475921,0.954863, 0.625971,1.358699,1.412497,1.088826, 1.408656,1.505907, 1.918267]\n",
    "\n",
    "kyohu = [4.227081,3.61958,3.863806,3.396327,4.431696,3.883365,4.217364,4.278783,3.083904]\n",
    "\n",
    "annshin = [3.552777,2.434867,3.67304,2.563117,3.58195,3.187179,3.190809,2.735193,2.81842]\n",
    "\n",
    "yorokobi = [5.244983,5.278723,5.707409,3.948085,4.340101,6.178574,4.671258,6.660498,7.434984]\n",
    "\n",
    "kenno = [14.556345,15.787618,14.310795,13.802668,13.83663,13.932387,16.909827,14.929279,14.612746]\n",
    "\n",
    "awaremi = [2.951342,2.15508,2.65943,1.877744,2.111883,2.059596,2.241116,2.40533,2.284475]\n",
    "\n",
    "haji = [0.256074,0.184519,0.127539,0.270549,0.171884,0.128363,0.458284,0.224473,0.232771]\n",
    "\n",
    "ikari =[1.859882, 1.757592,1.710879,1.058135,1.595538,1.371643,2.16948,1.222637,1.315093]\n",
    "\n",
    "koui = [1.774057,1.75703,1.8526,1.696203,1.814103,1.405435,1.371114,1.639344,1.316579 ]\n",
    "\n",
    "takaburi = [0.857101,0.857101,1.183703 ,0.687268 ,0.941362,0.852755,0.698286,1.082926,0.76188 ]\n",
    "\n",
    "#DataFrame型も用意\n",
    "data_1 = pd.DataFrame(odoroki)\n",
    "data_2 = pd.DataFrame(kyohu)\n",
    "data_3= pd.DataFrame(annshin)\n",
    "data_4= pd.DataFrame(yorokobi)\n",
    "data_5=pd.DataFrame(kenno)\n",
    "data_6= pd.DataFrame(awaremi)\n",
    "data_7= pd.DataFrame(haji)\n",
    "data_8= pd.DataFrame(ikari)\n",
    "data_9= pd.DataFrame(koui)\n",
    "data_0=pd.DataFrame(takaburi)\n",
    "\n",
    "\n",
    "\n",
    "#numpyとpandasで頭5行を表示\n",
    "print(\"numpyの配列↓\")\n",
    "print(data_1[0:9])\n",
    "print(\"pandasのDataFrame↓\")\n",
    "print(data_1.head(5))"
   ]
  },
  {
   "cell_type": "code",
   "execution_count": 9,
   "id": "3e515580",
   "metadata": {},
   "outputs": [],
   "source": [
    "from sklearn.preprocessing import MinMaxScaler\n",
    " \n",
    "#正規化のクラスを準備\n",
    "ms = MinMaxScaler()\n",
    " \n",
    "#特徴量の最大値と最小値を計算し変換\n",
    "data_s1 = ms.fit_transform(data_1)\n",
    "data_s2 = ms.fit_transform(data_2)\n",
    "data_s3 = ms.fit_transform(data_3)\n",
    "data_s4 = ms.fit_transform(data_4)\n",
    "data_s5 = ms.fit_transform(data_5)\n",
    "data_s6 = ms.fit_transform(data_6)\n",
    "data_s7 = ms.fit_transform(data_7)\n",
    "data_s8 = ms.fit_transform(data_8)\n",
    "data_s9 = ms.fit_transform(data_9)\n",
    "data_s0 = ms.fit_transform(data_0)\n",
    "\n",
    "\n"
   ]
  },
  {
   "cell_type": "code",
   "execution_count": 10,
   "id": "4754ec33",
   "metadata": {},
   "outputs": [
    {
     "ename": "AttributeError",
     "evalue": "'numpy.ndarray' object has no attribute 'head'",
     "output_type": "error",
     "traceback": [
      "\u001b[1;31m---------------------------------------------------------------------------\u001b[0m",
      "\u001b[1;31mAttributeError\u001b[0m                            Traceback (most recent call last)",
      "\u001b[1;32m~\\AppData\\Local\\Temp/ipykernel_29180/4198453269.py\u001b[0m in \u001b[0;36m<module>\u001b[1;34m\u001b[0m\n\u001b[1;32m----> 1\u001b[1;33m \u001b[0mprint\u001b[0m\u001b[1;33m(\u001b[0m\u001b[0mdata_s1\u001b[0m\u001b[1;33m.\u001b[0m\u001b[0mhead\u001b[0m\u001b[1;33m(\u001b[0m\u001b[1;36m10\u001b[0m\u001b[1;33m)\u001b[0m\u001b[1;33m)\u001b[0m\u001b[1;33m\u001b[0m\u001b[1;33m\u001b[0m\u001b[0m\n\u001b[0m",
      "\u001b[1;31mAttributeError\u001b[0m: 'numpy.ndarray' object has no attribute 'head'"
     ]
    }
   ],
   "source": [
    "print(data_s1.head(10))"
   ]
  },
  {
   "cell_type": "code",
   "execution_count": 11,
   "id": "decbfd64",
   "metadata": {},
   "outputs": [
    {
     "name": "stdout",
     "output_type": "stream",
     "text": [
      "[[0.65770536]\n",
      " [0.25450206]\n",
      " [0.        ]\n",
      " [0.56699703]\n",
      " [0.60862682]\n",
      " [0.35816485]\n",
      " [0.60565459]\n",
      " [0.68090902]\n",
      " [1.        ]]\n"
     ]
    }
   ],
   "source": [
    "print(data_s1[0:9])"
   ]
  },
  {
   "cell_type": "code",
   "execution_count": 12,
   "id": "5c6f1f12",
   "metadata": {},
   "outputs": [
    {
     "name": "stdout",
     "output_type": "stream",
     "text": [
      "[[0.84818503]\n",
      " [0.39744708]\n",
      " [0.5786516 ]\n",
      " [0.23180357]\n",
      " [1.        ]\n",
      " [0.59316349]\n",
      " [0.84097546]\n",
      " [0.88654555]\n",
      " [0.        ]]\n"
     ]
    }
   ],
   "source": [
    "print(data_s2[0:9])"
   ]
  },
  {
   "cell_type": "code",
   "execution_count": 13,
   "id": "b0b1fb14",
   "metadata": {},
   "outputs": [
    {
     "name": "stdout",
     "output_type": "stream",
     "text": [
      "[[0.9028706 ]\n",
      " [0.        ]\n",
      " [1.        ]\n",
      " [0.10358003]\n",
      " [0.92643193]\n",
      " [0.60759845]\n",
      " [0.61053019]\n",
      " [0.24255577]\n",
      " [0.30977335]]\n"
     ]
    }
   ],
   "source": [
    "print(data_s3[0:9])"
   ]
  },
  {
   "cell_type": "code",
   "execution_count": 19,
   "id": "3740efff",
   "metadata": {},
   "outputs": [
    {
     "name": "stdout",
     "output_type": "stream",
     "text": [
      "[[0.37193449]\n",
      " [0.38161071]\n",
      " [0.50455261]\n",
      " [0.        ]\n",
      " [0.1124254 ]\n",
      " [0.63967697]\n",
      " [0.20739717]\n",
      " [0.77788688]\n",
      " [1.        ]] [[0.24256145]\n",
      " [0.63883116]\n",
      " [0.16353428]\n",
      " [0.        ]\n",
      " [0.01093024]\n",
      " [0.04174843]\n",
      " [1.        ]\n",
      " [0.36258556]\n",
      " [0.2607134 ]] aaa [[1.        ]\n",
      " [0.25832388]\n",
      " [0.72809934]\n",
      " [0.        ]\n",
      " [0.21808815]\n",
      " [0.16938556]\n",
      " [0.33846188]\n",
      " [0.49141858]\n",
      " [0.37884851]] aaa [[0.38862265]\n",
      " [0.17227774]\n",
      " [0.        ]\n",
      " [0.43238749]\n",
      " [0.1340761 ]\n",
      " [0.00249135]\n",
      " [1.        ]\n",
      " [0.29307775]\n",
      " [0.31816656]] aaa [[0.72142044]\n",
      " [0.62937882]\n",
      " [0.58734596]\n",
      " [0.        ]\n",
      " [0.48356091]\n",
      " [0.28209782]\n",
      " [1.        ]\n",
      " [0.14802064]\n",
      " [0.23121353]] aaa [[0.85347029]\n",
      " [0.82170475]\n",
      " [1.        ]\n",
      " [0.70822598]\n",
      " [0.92818005]\n",
      " [0.16576962]\n",
      " [0.10174042]\n",
      " [0.60214992]\n",
      " [0.        ]] aaa [[0.34210521]\n",
      " [0.34210521]\n",
      " [1.        ]\n",
      " [0.        ]\n",
      " [0.5118374 ]\n",
      " [0.33335079]\n",
      " [0.02219424]\n",
      " [0.7969986 ]\n",
      " [0.15029561]]\n"
     ]
    }
   ],
   "source": [
    "print(data_s4,data_s5,\"aaa\",data_s6,\"aaa\",data_s7,\"aaa\",data_s8,\"aaa\",data_s9,\"aaa\",data_s0)"
   ]
  },
  {
   "cell_type": "code",
   "execution_count": null,
   "id": "3a49bdad",
   "metadata": {},
   "outputs": [],
   "source": [
    "import matplotlib.pyplot as plt\n",
    "\n",
    "x_datas = range(1, 10)\n",
    "odoroki = [ 1.475921,0.954863, 0.625971,1.358699,1.412497,1.088826, 1.408656,1.505907, 1.918267]\n",
    "\n",
    "kyohu = [4.227081,3.61958,3.863806,3.396327,4.431696,3.883365,4.217364,4.278783,3.083904]\n",
    "\n",
    "annshin = [3.552777,2.434867,3.67304,2.563117,3.58195,3.187179,3.190809,2.735193,2.81842]\n",
    "\n",
    "yorokobi = [5.244983,5.278723,5.707409,3.948085,4.340101,6.178574,4.671258,6.660498,7.434984]\n",
    "\n",
    "kenno = [14.556345,15.787618,14.310795,13.802668,13.83663,13.932387,16.909827,14.929279,14.612746]\n",
    "\n",
    "awaremi = [2.951342,2.15508,2.65943,1.877744,2.111883,2.059596,2.241116,2.40533,2.284475]\n",
    "\n",
    "haji = [0.256074,0.184519,0.127539,0.270549,0.171884,0.128363,0.458284,0.224473,0.232771]\n",
    "\n",
    "ikari =[1.859882, 1.757592,1.710879,1.058135,1.595538,1.371643,2.16948,1.222637,1.315093]\n",
    "\n",
    "koui = [1.774057,1.75703,1.8526,1.696203,1.814103,1.405435,1.371114,1.639344,1.316579 ]\n",
    "\n",
    "takaburi = [0.857101,0.857101,1.183703 ,0.687268 ,0.941362,0.852755,0.698286,1.082926,0.76188 ]\n",
    "\n",
    "\n",
    "\n",
    "\n",
    "plt.plot(x_datas, odoroki, marker = 'o', label = 'odoroki')\n",
    "plt.plot(x_datas, kyohu, marker = 'x', label = 'kyohu')\n",
    "plt.plot(x_datas, annshin, marker = 'o', label = 'annshin')\n",
    "plt.plot(x_datas, yorokobi, marker = 'x', label = 'yorokobi')\n",
    "plt.plot(x_datas, kenno, marker = 'o', label = 'kenno')\n",
    "plt.plot(x_datas, awaremi, marker = 'x', label = 'awaremi')\n",
    "plt.plot(x_datas, haji, marker = 'o', label = 'haji')\n",
    "plt.plot(x_datas, ikari, marker = 'x', label = 'ikari')\n",
    "plt.plot(x_datas, koui, marker = 'o', label = 'koui')\n",
    "plt.plot(x_datas, takaburi, marker = 'x', label = 'takaburi')\n",
    "\n",
    "\n",
    "\n",
    "\n",
    "plt.xlim(0, 10)\n",
    "\n",
    "plt.xlabel('week', fontsize = 16)\n",
    "\n",
    "plt.tick_params(labelsize=14)\n",
    "plt.grid(True)\n",
    "plt.legend(loc = 'upper right')\n",
    "plt.show()"
   ]
  }
 ],
 "metadata": {
  "kernelspec": {
   "display_name": "Python 3 (ipykernel)",
   "language": "python",
   "name": "python3"
  },
  "language_info": {
   "codemirror_mode": {
    "name": "ipython",
    "version": 3
   },
   "file_extension": ".py",
   "mimetype": "text/x-python",
   "name": "python",
   "nbconvert_exporter": "python",
   "pygments_lexer": "ipython3",
   "version": "3.9.7"
  }
 },
 "nbformat": 4,
 "nbformat_minor": 5
}
